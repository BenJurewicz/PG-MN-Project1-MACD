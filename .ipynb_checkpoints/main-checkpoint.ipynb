{
 "cells": [
  {
   "metadata": {},
   "cell_type": "markdown",
   "source": [
    "# Moving Average Convergence Divergence (MACD) analysis\n",
    "\n",
    "## Read the CSV file"
   ],
   "id": "c91aab9110c3d82a"
  },
  {
   "metadata": {},
   "cell_type": "markdown",
   "source": "## Add ema equation here as latex",
   "id": "6be1db77dbece101"
  },
  {
   "metadata": {
    "collapsed": true,
    "ExecuteTime": {
     "end_time": "2025-04-03T01:17:00.600499Z",
     "start_time": "2025-04-03T01:17:00.590300Z"
    }
   },
   "cell_type": "code",
   "source": [
    "from typing import *\n",
    "import pandas as pd\n",
    "from pandas.core.interchange.dataframe_protocol import DataFrame\n",
    "\n",
    "csvFile = pd.read_csv('pkn_orlen.csv', sep=';', usecols=['Data', 'Otwarcie'])\n",
    "stock_data = csvFile.rename(columns={'Data': 'Date', 'Otwarcie': 'Price'})\n",
    "stock_data = stock_data.tail(1026)\n",
    "\n",
    "# Make indexes start at 0\n",
    "smallest_index = stock_data.index.min()\n",
    "stock_data.index = stock_data.index - smallest_index\n",
    "\n",
    "stock_data"
   ],
   "id": "initial_id",
   "outputs": [
    {
     "data": {
      "text/plain": [
       "            Date    Price\n",
       "0     2021-02-09  46.8351\n",
       "1     2021-02-10  47.4272\n",
       "2     2021-02-11  46.4455\n",
       "3     2021-02-12  46.3201\n",
       "4     2021-02-15  47.3339\n",
       "...          ...      ...\n",
       "1021  2025-03-07  63.4600\n",
       "1022  2025-03-10  64.4200\n",
       "1023  2025-03-11  64.7500\n",
       "1024  2025-03-12  66.2000\n",
       "1025  2025-03-13  66.2500\n",
       "\n",
       "[1026 rows x 2 columns]"
      ],
      "text/html": [
       "<div>\n",
       "<style scoped>\n",
       "    .dataframe tbody tr th:only-of-type {\n",
       "        vertical-align: middle;\n",
       "    }\n",
       "\n",
       "    .dataframe tbody tr th {\n",
       "        vertical-align: top;\n",
       "    }\n",
       "\n",
       "    .dataframe thead th {\n",
       "        text-align: right;\n",
       "    }\n",
       "</style>\n",
       "<table border=\"1\" class=\"dataframe\">\n",
       "  <thead>\n",
       "    <tr style=\"text-align: right;\">\n",
       "      <th></th>\n",
       "      <th>Date</th>\n",
       "      <th>Price</th>\n",
       "    </tr>\n",
       "  </thead>\n",
       "  <tbody>\n",
       "    <tr>\n",
       "      <th>0</th>\n",
       "      <td>2021-02-09</td>\n",
       "      <td>46.8351</td>\n",
       "    </tr>\n",
       "    <tr>\n",
       "      <th>1</th>\n",
       "      <td>2021-02-10</td>\n",
       "      <td>47.4272</td>\n",
       "    </tr>\n",
       "    <tr>\n",
       "      <th>2</th>\n",
       "      <td>2021-02-11</td>\n",
       "      <td>46.4455</td>\n",
       "    </tr>\n",
       "    <tr>\n",
       "      <th>3</th>\n",
       "      <td>2021-02-12</td>\n",
       "      <td>46.3201</td>\n",
       "    </tr>\n",
       "    <tr>\n",
       "      <th>4</th>\n",
       "      <td>2021-02-15</td>\n",
       "      <td>47.3339</td>\n",
       "    </tr>\n",
       "    <tr>\n",
       "      <th>...</th>\n",
       "      <td>...</td>\n",
       "      <td>...</td>\n",
       "    </tr>\n",
       "    <tr>\n",
       "      <th>1021</th>\n",
       "      <td>2025-03-07</td>\n",
       "      <td>63.4600</td>\n",
       "    </tr>\n",
       "    <tr>\n",
       "      <th>1022</th>\n",
       "      <td>2025-03-10</td>\n",
       "      <td>64.4200</td>\n",
       "    </tr>\n",
       "    <tr>\n",
       "      <th>1023</th>\n",
       "      <td>2025-03-11</td>\n",
       "      <td>64.7500</td>\n",
       "    </tr>\n",
       "    <tr>\n",
       "      <th>1024</th>\n",
       "      <td>2025-03-12</td>\n",
       "      <td>66.2000</td>\n",
       "    </tr>\n",
       "    <tr>\n",
       "      <th>1025</th>\n",
       "      <td>2025-03-13</td>\n",
       "      <td>66.2500</td>\n",
       "    </tr>\n",
       "  </tbody>\n",
       "</table>\n",
       "<p>1026 rows × 2 columns</p>\n",
       "</div>"
      ]
     },
     "execution_count": 14,
     "metadata": {},
     "output_type": "execute_result"
    }
   ],
   "execution_count": 14
  },
  {
   "metadata": {
    "ExecuteTime": {
     "end_time": "2025-04-03T01:17:00.625235Z",
     "start_time": "2025-04-03T01:17:00.623184Z"
    }
   },
   "cell_type": "code",
   "source": [
    "def calc_ema(data: DataFrame, n : int) -> DataFrame:\n",
    "    alpha = 2 / (n + 1)\n",
    "    prices =  data['Price'].to_list()\n",
    "    ema_values = [prices[0]]\n",
    "    for i in range(n, len(prices)):\n",
    "        new_ema = round((alpha * prices[i]) + (1 - alpha) * ema_values[-1], 2)\n",
    "        ema_values.append(new_ema)\n",
    "    ema_df = pd.DataFrame({\n",
    "        'Date' : data['Date'].tail(len(ema_values)),\n",
    "        f'EMA_{n}': ema_values}\n",
    "    )\n",
    "    return ema_df"
   ],
   "id": "2b05e961c78b6c37",
   "outputs": [],
   "execution_count": 15
  },
  {
   "metadata": {
    "ExecuteTime": {
     "end_time": "2025-04-03T01:19:57.095816Z",
     "start_time": "2025-04-03T01:19:57.092403Z"
    }
   },
   "cell_type": "code",
   "source": [
    "def calc_macd(data: DataFrame, n1 = 26, n2=12 ):\n",
    "    macd_values = []\n",
    "    # for i in range(1, len(data)):\n",
    "    #     macd_values.append(data['EMA_12'][i] - data['EMA_26'][i])\n",
    "\n"
   ],
   "id": "9acc30f4e79f804b",
   "outputs": [],
   "execution_count": 17
  },
  {
   "metadata": {},
   "cell_type": "code",
   "outputs": [],
   "execution_count": null,
   "source": [
    "def calc_signal(data: DataFrame, n = 9):\n",
    "    pass"
   ],
   "id": "ea84b653b8cdc5b2"
  },
  {
   "metadata": {
    "ExecuteTime": {
     "end_time": "2025-04-03T01:17:00.672156Z",
     "start_time": "2025-04-03T01:13:32.576283Z"
    }
   },
   "cell_type": "code",
   "source": [
    "# calculate ema\n",
    "EMA_12 = calc_ema(stock_data, 12)[-1000:]\n",
    "EMA_26 = calc_ema(stock_data, 26)[-1000:]\n",
    "EMAS = pd.merge(EMA_12, EMA_26, on='Date')\n",
    "EMAS"
   ],
   "id": "89b1a41a900dfab8",
   "outputs": [
    {
     "data": {
      "text/plain": [
       "           Date  EMA_12  EMA_26\n",
       "0    2021-03-17   51.25   47.17\n",
       "1    2021-03-18   51.17   47.43\n",
       "2    2021-03-19   50.87   47.56\n",
       "3    2021-03-22   50.60   47.67\n",
       "4    2021-03-23   50.51   47.84\n",
       "..          ...     ...     ...\n",
       "995  2025-03-07   61.86   59.40\n",
       "996  2025-03-10   62.25   59.77\n",
       "997  2025-03-11   62.63   60.14\n",
       "998  2025-03-12   63.18   60.59\n",
       "999  2025-03-13   63.65   61.01\n",
       "\n",
       "[1000 rows x 3 columns]"
      ],
      "text/html": [
       "<div>\n",
       "<style scoped>\n",
       "    .dataframe tbody tr th:only-of-type {\n",
       "        vertical-align: middle;\n",
       "    }\n",
       "\n",
       "    .dataframe tbody tr th {\n",
       "        vertical-align: top;\n",
       "    }\n",
       "\n",
       "    .dataframe thead th {\n",
       "        text-align: right;\n",
       "    }\n",
       "</style>\n",
       "<table border=\"1\" class=\"dataframe\">\n",
       "  <thead>\n",
       "    <tr style=\"text-align: right;\">\n",
       "      <th></th>\n",
       "      <th>Date</th>\n",
       "      <th>EMA_12</th>\n",
       "      <th>EMA_26</th>\n",
       "    </tr>\n",
       "  </thead>\n",
       "  <tbody>\n",
       "    <tr>\n",
       "      <th>0</th>\n",
       "      <td>2021-03-17</td>\n",
       "      <td>51.25</td>\n",
       "      <td>47.17</td>\n",
       "    </tr>\n",
       "    <tr>\n",
       "      <th>1</th>\n",
       "      <td>2021-03-18</td>\n",
       "      <td>51.17</td>\n",
       "      <td>47.43</td>\n",
       "    </tr>\n",
       "    <tr>\n",
       "      <th>2</th>\n",
       "      <td>2021-03-19</td>\n",
       "      <td>50.87</td>\n",
       "      <td>47.56</td>\n",
       "    </tr>\n",
       "    <tr>\n",
       "      <th>3</th>\n",
       "      <td>2021-03-22</td>\n",
       "      <td>50.60</td>\n",
       "      <td>47.67</td>\n",
       "    </tr>\n",
       "    <tr>\n",
       "      <th>4</th>\n",
       "      <td>2021-03-23</td>\n",
       "      <td>50.51</td>\n",
       "      <td>47.84</td>\n",
       "    </tr>\n",
       "    <tr>\n",
       "      <th>...</th>\n",
       "      <td>...</td>\n",
       "      <td>...</td>\n",
       "      <td>...</td>\n",
       "    </tr>\n",
       "    <tr>\n",
       "      <th>995</th>\n",
       "      <td>2025-03-07</td>\n",
       "      <td>61.86</td>\n",
       "      <td>59.40</td>\n",
       "    </tr>\n",
       "    <tr>\n",
       "      <th>996</th>\n",
       "      <td>2025-03-10</td>\n",
       "      <td>62.25</td>\n",
       "      <td>59.77</td>\n",
       "    </tr>\n",
       "    <tr>\n",
       "      <th>997</th>\n",
       "      <td>2025-03-11</td>\n",
       "      <td>62.63</td>\n",
       "      <td>60.14</td>\n",
       "    </tr>\n",
       "    <tr>\n",
       "      <th>998</th>\n",
       "      <td>2025-03-12</td>\n",
       "      <td>63.18</td>\n",
       "      <td>60.59</td>\n",
       "    </tr>\n",
       "    <tr>\n",
       "      <th>999</th>\n",
       "      <td>2025-03-13</td>\n",
       "      <td>63.65</td>\n",
       "      <td>61.01</td>\n",
       "    </tr>\n",
       "  </tbody>\n",
       "</table>\n",
       "<p>1000 rows × 3 columns</p>\n",
       "</div>"
      ]
     },
     "execution_count": 9,
     "metadata": {},
     "output_type": "execute_result"
    }
   ],
   "execution_count": 9
  },
  {
   "metadata": {},
   "cell_type": "code",
   "outputs": [],
   "execution_count": null,
   "source": [
    "# calculate macd and signal\n",
    "MACD = calc_macd(EMAS)\n",
    "signal = calc_signal(MACD)\n",
    "# MACD\n"
   ],
   "id": "ae34084d76133155"
  }
 ],
 "metadata": {
  "kernelspec": {
   "display_name": "Python 3",
   "language": "python",
   "name": "python3"
  },
  "language_info": {
   "codemirror_mode": {
    "name": "ipython",
    "version": 2
   },
   "file_extension": ".py",
   "mimetype": "text/x-python",
   "name": "python",
   "nbconvert_exporter": "python",
   "pygments_lexer": "ipython2",
   "version": "2.7.6"
  }
 },
 "nbformat": 4,
 "nbformat_minor": 5
}
